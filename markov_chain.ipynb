{
 "cells": [
  {
   "cell_type": "markdown",
   "metadata": {},
   "source": [
    "# マルコフチェインアルゴリズムによる最適化\n",
    " - 関数 $f(x) = x^3 + 2x^2 - 5x + 6$がある\n",
    " - 初期値$0 \\le x_0 \\le 1$の一様乱数として、 $f(x) = 0$となる$x$を求めよ。"
   ]
  },
  {
   "cell_type": "code",
   "execution_count": 1,
   "metadata": {},
   "outputs": [
    {
     "name": "stdout",
     "output_type": "stream",
     "text": [
      "試行回数101\n",
      "x = 9.83467317110604\n",
      "関数f(x) = 1101.4856481801323\n"
     ]
    }
   ],
   "source": [
    "import numpy as np\n",
    "\n",
    "def f(x) :\n",
    "    return x**3 + 2*x**2 - 5*x + 6\n",
    "\n",
    "x0 = np.random.rand() # 0~1の一様乱数\n",
    "t = 0  # 繰り返し変数\n",
    "\n",
    "while f(x0) > 0.0001 and t <= 100 :\n",
    "    t = t + 1\n",
    "    \n",
    "    # 新しい解候補を提案\n",
    "    y = x0 + np.random.randn()\n",
    "    \n",
    "    # 乱数を生成\n",
    "    p = np.random.rand()\n",
    "    r = np.random.rand()\n",
    "    \n",
    "    # 解を更新\n",
    "    if r < p :\n",
    "        x0 = y\n",
    "\n",
    "print(\"試行回数{0}\".format(t))\n",
    "print(\"x = {0}\".format(x0))\n",
    "print(\"関数f(x) = {0}\".format(f(x0)))"
   ]
  },
  {
   "cell_type": "markdown",
   "metadata": {},
   "source": [
    "# 課題1\n",
    "正規乱数を生成するプログラムを作れ。\n",
    "\n",
    "また、そのプログラムを用いて$\\mu = 0$, $\\sigma = 1$の正規分布に従う\n",
    "\n",
    "正規分布を1000個生成し、その正規確率をヒストグラムで表示せよ。\n",
    "\n",
    "階級数は30とする。"
   ]
  },
  {
   "cell_type": "code",
   "execution_count": 129,
   "metadata": {
    "collapsed": true
   },
   "outputs": [],
   "source": [
    "# 一様乱数の生成関数(numpyやrandomがあるが一応作成)\n",
    "\n",
    "import random\n",
    "\n",
    "def uniform() :\n",
    "    return random.randint(0,32767) / 32768 # Cでは擬似乱数生成関数rand()が0~32767までの範囲で生成されるので、それに倣う"
   ]
  },
  {
   "cell_type": "code",
   "execution_count": 139,
   "metadata": {
    "collapsed": true
   },
   "outputs": [],
   "source": [
    "# 正規乱数の生成関数\n",
    "\n",
    "def rand_normal(mu, sigma) :\n",
    "    # numpyだと下記のやり方(そもそもnumpy.random.randn()があるが...)\n",
    "    # z = np.sqrt(-2.0 * np.log(np.random.rand())) * np.sin(2.0 * np.pi * np.random.rand())\n",
    "    \n",
    "    # randomモジュールのみのやり方\n",
    "    z = np.sqrt(-2.0 * np.log(uniform())) * np.sin(2.0 * np.pi * uniform())\n",
    "    return mu + sigma * z"
   ]
  },
  {
   "cell_type": "code",
   "execution_count": 141,
   "metadata": {},
   "outputs": [
    {
     "data": {
      "image/png": "[encoded data removed]",
      "text/plain": [
       "<matplotlib.figure.Figure at 0x1161ffd68>"
      ]
     },
     "metadata": {},
     "output_type": "display_data"
    }
   ],
   "source": [
    "# 正規乱数を1000個生成し、ヒストグラムに描画(階級数は30)\n",
    "\n",
    "import matplotlib.pyplot as plt\n",
    "\n",
    "y = [] # 正規乱数を格納するリスト\n",
    "\n",
    "for i in range(1000) :\n",
    "    y.append(rand_normal(0,1))\n",
    "\n",
    "plt.hist(y, bins=30)\n",
    "plt.show()"
   ]
  }
 ],
 "metadata": {
  "kernelspec": {
   "display_name": "Python 3",
   "language": "python",
   "name": "python3"
  },
  "language_info": {
   "codemirror_mode": {
    "name": "ipython",
    "version": 3
   },
   "file_extension": ".py",
   "mimetype": "text/x-python",
   "name": "python",
   "nbconvert_exporter": "python",
   "pygments_lexer": "ipython3",
   "version": "3.6.3"
  }
 },
 "nbformat": 4,
 "nbformat_minor": 2
}
