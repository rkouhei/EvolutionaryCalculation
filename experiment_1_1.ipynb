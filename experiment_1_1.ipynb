{
 "cells": [
  {
   "cell_type": "markdown",
   "metadata": {},
   "source": [
    "# 進化計算特論レポート 実験\n",
    "## 連続最適化に関する問題"
   ]
  },
  {
   "cell_type": "markdown",
   "metadata": {},
   "source": [
    "### 次元数2\n",
    "**PSO**<br>\n",
    "次元数**2**<br>\n",
    "関数**Sphere**"
   ]
  },
  {
   "cell_type": "code",
   "execution_count": 8,
   "metadata": {},
   "outputs": [
    {
     "name": "stdout",
     "output_type": "stream",
     "text": [
      "Sphere関数\n",
      "平均解(Avg) : 4.57089156738e-06\n",
      "標本分散(Var) : 8.69206923298e-12\n",
      "平均終了イタレーション(Endt) : 58.9\n"
     ]
    }
   ],
   "source": [
    "from pso import pso\n",
    "import numpy as np\n",
    "\n",
    "avg_list = [] # 平均解\n",
    "endt_list = [] # 平均終了イタレーション\n",
    "\n",
    "# シミュレーション, 次元数2で100回施行\n",
    "for i in range(100) :\n",
    "    p1 = pso.pso(30,2)\n",
    "    p1.calc()\n",
    "    avg_list.append(p1.fg)\n",
    "    endt_list.append(p1.stopt)\n",
    "\n",
    "# numpy配列への変更\n",
    "avg = np.array(avg_list)\n",
    "endt = np.array(endt_list)\n",
    "\n",
    "# 標本分散\n",
    "var = np.var(avg)\n",
    "\n",
    "# sphere\n",
    "print('Sphere関数')\n",
    "print('平均解(Avg) : ', end='')\n",
    "print(np.mean(avg))\n",
    "print('標本分散(Var) : ', end='')\n",
    "print(var)\n",
    "print('平均終了イタレーション(Endt) : ', end='')\n",
    "print(np.mean(endt))"
   ]
  },
  {
   "cell_type": "markdown",
   "metadata": {},
   "source": [
    "---\n",
    "**PSO**<br>\n",
    "次元数**2**<br>\n",
    "関数**Rastrigin**"
   ]
  },
  {
   "cell_type": "code",
   "execution_count": 17,
   "metadata": {},
   "outputs": [
    {
     "name": "stdout",
     "output_type": "stream",
     "text": [
      "Rastrigin関数\n",
      "平均解(Avg) : 0.0895504384348\n",
      "標本分散(Var) : 0.0810756362792\n",
      "平均終了イタレーション(Endt) : 202.13\n"
     ]
    }
   ],
   "source": [
    "from pso import pso\n",
    "import numpy as np\n",
    "\n",
    "avg_list = [] # 平均解\n",
    "endt_list = [] # 平均終了イタレーション\n",
    "\n",
    "# シミュレーション, 次元数2で100回施行\n",
    "for i in range(100) :\n",
    "    p1 = pso.pso(30,2, 'rastrigin')\n",
    "    p1.calc()\n",
    "    avg_list.append(p1.fg)\n",
    "    endt_list.append(p1.stopt)\n",
    "\n",
    "# numpy配列への変更\n",
    "avg = np.array(avg_list)\n",
    "endt = np.array(endt_list)\n",
    "\n",
    "# 標本分散\n",
    "var = np.var(avg)\n",
    "\n",
    "# rastrigin\n",
    "print('Rastrigin関数')\n",
    "print('平均解(Avg) : ', end='')\n",
    "print(np.mean(avg))\n",
    "print('標本分散(Var) : ', end='')\n",
    "print(var)\n",
    "print('平均終了イタレーション(Endt) : ', end='')\n",
    "print(np.mean(endt))"
   ]
  },
  {
   "cell_type": "markdown",
   "metadata": {},
   "source": [
    "---\n",
    "**DE**<br>\n",
    "次元数**2**<br>\n",
    "関数**Sphere**"
   ]
  },
  {
   "cell_type": "code",
   "execution_count": 13,
   "metadata": {},
   "outputs": [
    {
     "name": "stdout",
     "output_type": "stream",
     "text": [
      "Sphere関数\n",
      "平均解(Avg) : 5.06521945971e-06\n",
      "標本分散(Var) : 9.13031351236e-12\n",
      "平均終了イタレーション(Endt) : 17.29\n"
     ]
    }
   ],
   "source": [
    "from DE import de\n",
    "import numpy as np\n",
    "\n",
    "avg_list = [] # 平均解\n",
    "endt_list = [] # 平均終了イタレーション\n",
    "\n",
    "# シミュレーション, 次元数2で100回施行\n",
    "for i in range(100) :\n",
    "    p1 = de.de(30,2)\n",
    "    p1.calc()\n",
    "    avg_list.append(p1.fbest)\n",
    "    endt_list.append(p1.stopt)\n",
    "\n",
    "# numpy配列への変更\n",
    "avg = np.array(avg_list)\n",
    "endt = np.array(endt_list)\n",
    "\n",
    "# 標本分散\n",
    "var = np.var(avg)\n",
    "\n",
    "# sphere\n",
    "print('Sphere関数')\n",
    "print('平均解(Avg) : ', end='')\n",
    "print(np.mean(avg))\n",
    "print('標本分散(Var) : ', end='')\n",
    "print(var)\n",
    "print('平均終了イタレーション(Endt) : ', end='')\n",
    "print(np.mean(endt))"
   ]
  },
  {
   "cell_type": "markdown",
   "metadata": {},
   "source": [
    "---\n",
    "**DE**<br>\n",
    "次元数**2**<br>\n",
    "関数**Rastrigin**"
   ]
  },
  {
   "cell_type": "code",
   "execution_count": 14,
   "metadata": {},
   "outputs": [
    {
     "name": "stdout",
     "output_type": "stream",
     "text": [
      "Rastrigin関数\n",
      "平均解(Avg) : 4.70825546747e-06\n",
      "標本分散(Var) : 8.73692134329e-12\n",
      "平均終了イタレーション(Endt) : 48.97\n"
     ]
    }
   ],
   "source": [
    "from DE import de\n",
    "import numpy as np\n",
    "\n",
    "avg_list = [] # 平均解\n",
    "endt_list = [] # 平均終了イタレーション\n",
    "\n",
    "# シミュレーション, 次元数2で100回施行\n",
    "for i in range(100) :\n",
    "    p1 = de.de(30,2, 'rastrigin')\n",
    "    p1.calc()\n",
    "    avg_list.append(p1.fbest)\n",
    "    endt_list.append(p1.stopt)\n",
    "\n",
    "# numpy配列への変更\n",
    "avg = np.array(avg_list)\n",
    "endt = np.array(endt_list)\n",
    "\n",
    "# 標本分散\n",
    "var = np.var(avg)\n",
    "\n",
    "# rastrigin\n",
    "print('Rastrigin関数')\n",
    "print('平均解(Avg) : ', end='')\n",
    "print(np.mean(avg))\n",
    "print('標本分散(Var) : ', end='')\n",
    "print(var)\n",
    "print('平均終了イタレーション(Endt) : ', end='')\n",
    "print(np.mean(endt))"
   ]
  },
  {
   "cell_type": "markdown",
   "metadata": {},
   "source": [
    "### 次元数5\n",
    "**PSO**<br>\n",
    "次元数**5**<br>\n",
    "関数**Sphere**"
   ]
  },
  {
   "cell_type": "code",
   "execution_count": 16,
   "metadata": {},
   "outputs": [
    {
     "name": "stdout",
     "output_type": "stream",
     "text": [
      "Sphere関数\n",
      "平均解(Avg) : 8.13004786161e-06\n",
      "標本分散(Var) : 3.1218376098e-12\n",
      "平均終了イタレーション(Endt) : 217.01\n"
     ]
    }
   ],
   "source": [
    "from pso import pso\n",
    "import numpy as np\n",
    "\n",
    "avg_list = [] # 平均解\n",
    "endt_list = [] # 平均終了イタレーション\n",
    "\n",
    "# シミュレーション, 次元数5で100回施行\n",
    "for i in range(100) :\n",
    "    p1 = pso.pso(30,5)\n",
    "    p1.calc()\n",
    "    avg_list.append(p1.fg)\n",
    "    endt_list.append(p1.stopt)\n",
    "\n",
    "# numpy配列への変更\n",
    "avg = np.array(avg_list)\n",
    "endt = np.array(endt_list)\n",
    "\n",
    "# 標本分散\n",
    "var = np.var(avg)\n",
    "\n",
    "# sphere\n",
    "print('Sphere関数')\n",
    "print('平均解(Avg) : ', end='')\n",
    "print(np.mean(avg))\n",
    "print('標本分散(Var) : ', end='')\n",
    "print(var)\n",
    "print('平均終了イタレーション(Endt) : ', end='')\n",
    "print(np.mean(endt))"
   ]
  },
  {
   "cell_type": "markdown",
   "metadata": {},
   "source": [
    "---\n",
    "**PSO**<br>\n",
    "次元数**5**<br>\n",
    "関数**Rastrigin**"
   ]
  },
  {
   "cell_type": "code",
   "execution_count": 18,
   "metadata": {},
   "outputs": [
    {
     "name": "stdout",
     "output_type": "stream",
     "text": [
      "Rastrigin関数\n",
      "平均解(Avg) : 6.1625728595\n",
      "標本分散(Var) : 11.4621952765\n",
      "平均終了イタレーション(Endt) : 986.49\n"
     ]
    }
   ],
   "source": [
    "from pso import pso\n",
    "import numpy as np\n",
    "\n",
    "avg_list = [] # 平均解\n",
    "endt_list = [] # 平均終了イタレーション\n",
    "\n",
    "# シミュレーション, 次元数5で100回施行\n",
    "for i in range(100) :\n",
    "    p1 = pso.pso(30,5, 'rastrigin')\n",
    "    p1.calc()\n",
    "    avg_list.append(p1.fg)\n",
    "    endt_list.append(p1.stopt)\n",
    "\n",
    "# numpy配列への変更\n",
    "avg = np.array(avg_list)\n",
    "endt = np.array(endt_list)\n",
    "\n",
    "# 標本分散\n",
    "var = np.var(avg)\n",
    "\n",
    "# rastrigin\n",
    "print('Rastrigin関数')\n",
    "print('平均解(Avg) : ', end='')\n",
    "print(np.mean(avg))\n",
    "print('標本分散(Var) : ', end='')\n",
    "print(var)\n",
    "print('平均終了イタレーション(Endt) : ', end='')\n",
    "print(np.mean(endt))"
   ]
  },
  {
   "cell_type": "markdown",
   "metadata": {},
   "source": [
    "---\n",
    "**DE**<br>\n",
    "次元数**5**<br>\n",
    "関数**Sphere**"
   ]
  },
  {
   "cell_type": "code",
   "execution_count": 19,
   "metadata": {},
   "outputs": [
    {
     "name": "stdout",
     "output_type": "stream",
     "text": [
      "Sphere関数\n",
      "平均解(Avg) : 6.25377224803e-06\n",
      "標本分散(Var) : 6.07680445116e-12\n",
      "平均終了イタレーション(Endt) : 54.16\n"
     ]
    }
   ],
   "source": [
    "from DE import de\n",
    "import numpy as np\n",
    "\n",
    "avg_list = [] # 平均解\n",
    "endt_list = [] # 平均終了イタレーション\n",
    "\n",
    "# シミュレーション, 次元数5で100回施行\n",
    "for i in range(100) :\n",
    "    p1 = de.de(30,5)\n",
    "    p1.calc()\n",
    "    avg_list.append(p1.fbest)\n",
    "    endt_list.append(p1.stopt)\n",
    "\n",
    "# numpy配列への変更\n",
    "avg = np.array(avg_list)\n",
    "endt = np.array(endt_list)\n",
    "\n",
    "# 標本分散\n",
    "var = np.var(avg)\n",
    "\n",
    "# sphere\n",
    "print('Sphere関数')\n",
    "print('平均解(Avg) : ', end='')\n",
    "print(np.mean(avg))\n",
    "print('標本分散(Var) : ', end='')\n",
    "print(var)\n",
    "print('平均終了イタレーション(Endt) : ', end='')\n",
    "print(np.mean(endt))"
   ]
  },
  {
   "cell_type": "markdown",
   "metadata": {},
   "source": [
    "---\n",
    "**DE**<br>\n",
    "次元数**5**<br>\n",
    "関数**Rastrigin**"
   ]
  },
  {
   "cell_type": "code",
   "execution_count": 20,
   "metadata": {},
   "outputs": [
    {
     "name": "stdout",
     "output_type": "stream",
     "text": [
      "Rastrigin関数\n",
      "平均解(Avg) : 0.169391256457\n",
      "標本分散(Var) : 0.159401774207\n",
      "平均終了イタレーション(Endt) : 429.57\n"
     ]
    }
   ],
   "source": [
    "from DE import de\n",
    "import numpy as np\n",
    "\n",
    "avg_list = [] # 平均解\n",
    "endt_list = [] # 平均終了イタレーション\n",
    "\n",
    "# シミュレーション, 次元数5で100回施行\n",
    "for i in range(100) :\n",
    "    p1 = de.de(30,5, 'rastrigin')\n",
    "    p1.calc()\n",
    "    avg_list.append(p1.fbest)\n",
    "    endt_list.append(p1.stopt)\n",
    "\n",
    "# numpy配列への変更\n",
    "avg = np.array(avg_list)\n",
    "endt = np.array(endt_list)\n",
    "\n",
    "# 標本分散\n",
    "var = np.var(avg)\n",
    "\n",
    "# rastrigin\n",
    "print('Rastrigin関数')\n",
    "print('平均解(Avg) : ', end='')\n",
    "print(np.mean(avg))\n",
    "print('標本分散(Var) : ', end='')\n",
    "print(var)\n",
    "print('平均終了イタレーション(Endt) : ', end='')\n",
    "print(np.mean(endt))"
   ]
  },
  {
   "cell_type": "markdown",
   "metadata": {},
   "source": [
    "### 次元数20\n",
    "**PSO**<br>\n",
    "次元数**20**<br>\n",
    "関数**Sphere**"
   ]
  },
  {
   "cell_type": "code",
   "execution_count": 21,
   "metadata": {},
   "outputs": [
    {
     "name": "stdout",
     "output_type": "stream",
     "text": [
      "Sphere関数\n",
      "平均解(Avg) : 4.83285115465\n",
      "標本分散(Var) : 4.23357480428\n",
      "平均終了イタレーション(Endt) : 1000.0\n"
     ]
    }
   ],
   "source": [
    "from pso import pso\n",
    "import numpy as np\n",
    "\n",
    "avg_list = [] # 平均解\n",
    "endt_list = [] # 平均終了イタレーション\n",
    "\n",
    "# シミュレーション, 次元数20で100回施行\n",
    "for i in range(100) :\n",
    "    p1 = pso.pso(30,20)\n",
    "    p1.calc()\n",
    "    avg_list.append(p1.fg)\n",
    "    endt_list.append(p1.stopt)\n",
    "\n",
    "# numpy配列への変更\n",
    "avg = np.array(avg_list)\n",
    "endt = np.array(endt_list)\n",
    "\n",
    "# 標本分散\n",
    "var = np.var(avg)\n",
    "\n",
    "# sphere\n",
    "print('Sphere関数')\n",
    "print('平均解(Avg) : ', end='')\n",
    "print(np.mean(avg))\n",
    "print('標本分散(Var) : ', end='')\n",
    "print(var)\n",
    "print('平均終了イタレーション(Endt) : ', end='')\n",
    "print(np.mean(endt))"
   ]
  },
  {
   "cell_type": "markdown",
   "metadata": {},
   "source": [
    "---\n",
    "**PSO**<br>\n",
    "次元数**20**<br>\n",
    "関数**Rastrigin**"
   ]
  },
  {
   "cell_type": "code",
   "execution_count": 22,
   "metadata": {},
   "outputs": [
    {
     "name": "stdout",
     "output_type": "stream",
     "text": [
      "Rastrigin関数\n",
      "平均解(Avg) : 91.0997697108\n",
      "標本分散(Var) : 205.665641389\n",
      "平均終了イタレーション(Endt) : 1000.0\n"
     ]
    }
   ],
   "source": [
    "from pso import pso\n",
    "import numpy as np\n",
    "\n",
    "avg_list = [] # 平均解\n",
    "endt_list = [] # 平均終了イタレーション\n",
    "\n",
    "# シミュレーション, 次元数20で100回施行\n",
    "for i in range(100) :\n",
    "    p1 = pso.pso(30,20, 'rastrigin')\n",
    "    p1.calc()\n",
    "    avg_list.append(p1.fg)\n",
    "    endt_list.append(p1.stopt)\n",
    "\n",
    "# numpy配列への変更\n",
    "avg = np.array(avg_list)\n",
    "endt = np.array(endt_list)\n",
    "\n",
    "# 標本分散\n",
    "var = np.var(avg)\n",
    "\n",
    "# rastrigin\n",
    "print('Rastrigin関数')\n",
    "print('平均解(Avg) : ', end='')\n",
    "print(np.mean(avg))\n",
    "print('標本分散(Var) : ', end='')\n",
    "print(var)\n",
    "print('平均終了イタレーション(Endt) : ', end='')\n",
    "print(np.mean(endt))"
   ]
  },
  {
   "cell_type": "markdown",
   "metadata": {},
   "source": [
    "---\n",
    "**DE**<br>\n",
    "次元数**20**<br>\n",
    "関数**Sphere**"
   ]
  },
  {
   "cell_type": "code",
   "execution_count": 23,
   "metadata": {},
   "outputs": [
    {
     "name": "stdout",
     "output_type": "stream",
     "text": [
      "Sphere関数\n",
      "平均解(Avg) : 0.00222208011897\n",
      "標本分散(Var) : 0.000200437616761\n",
      "平均終了イタレーション(Endt) : 498.4\n"
     ]
    }
   ],
   "source": [
    "from DE import de\n",
    "import numpy as np\n",
    "\n",
    "avg_list = [] # 平均解\n",
    "endt_list = [] # 平均終了イタレーション\n",
    "\n",
    "# シミュレーション, 次元数20で100回施行\n",
    "for i in range(100) :\n",
    "    p1 = de.de(30,20)\n",
    "    p1.calc()\n",
    "    avg_list.append(p1.fbest)\n",
    "    endt_list.append(p1.stopt)\n",
    "\n",
    "# numpy配列への変更\n",
    "avg = np.array(avg_list)\n",
    "endt = np.array(endt_list)\n",
    "\n",
    "# 標本分散\n",
    "var = np.var(avg)\n",
    "\n",
    "# sphere\n",
    "print('Sphere関数')\n",
    "print('平均解(Avg) : ', end='')\n",
    "print(np.mean(avg))\n",
    "print('標本分散(Var) : ', end='')\n",
    "print(var)\n",
    "print('平均終了イタレーション(Endt) : ', end='')\n",
    "print(np.mean(endt))"
   ]
  },
  {
   "cell_type": "markdown",
   "metadata": {},
   "source": [
    "---\n",
    "**DE**<br>\n",
    "次元数**20**<br>\n",
    "関数**Rastrigin**"
   ]
  },
  {
   "cell_type": "code",
   "execution_count": 24,
   "metadata": {},
   "outputs": [
    {
     "name": "stdout",
     "output_type": "stream",
     "text": [
      "Rastrigin関数\n",
      "平均解(Avg) : 18.865224554\n",
      "標本分散(Var) : 162.33594648\n",
      "平均終了イタレーション(Endt) : 1000.0\n"
     ]
    }
   ],
   "source": [
    "from DE import de\n",
    "import numpy as np\n",
    "\n",
    "avg_list = [] # 平均解\n",
    "endt_list = [] # 平均終了イタレーション\n",
    "\n",
    "# シミュレーション, 次元数20で100回施行\n",
    "for i in range(100) :\n",
    "    p1 = de.de(30,20, 'rastrigin')\n",
    "    p1.calc()\n",
    "    avg_list.append(p1.fbest)\n",
    "    endt_list.append(p1.stopt)\n",
    "\n",
    "# numpy配列への変更\n",
    "avg = np.array(avg_list)\n",
    "endt = np.array(endt_list)\n",
    "\n",
    "# 標本分散\n",
    "var = np.var(avg)\n",
    "\n",
    "# rastrigin\n",
    "print('Rastrigin関数')\n",
    "print('平均解(Avg) : ', end='')\n",
    "print(np.mean(avg))\n",
    "print('標本分散(Var) : ', end='')\n",
    "print(var)\n",
    "print('平均終了イタレーション(Endt) : ', end='')\n",
    "print(np.mean(endt))"
   ]
  }
 ],
 "metadata": {
  "kernelspec": {
   "display_name": "Python 3",
   "language": "python",
   "name": "python3"
  },
  "language_info": {
   "codemirror_mode": {
    "name": "ipython",
    "version": 3
   },
   "file_extension": ".py",
   "mimetype": "text/x-python",
   "name": "python",
   "nbconvert_exporter": "python",
   "pygments_lexer": "ipython3",
   "version": "3.6.3"
  },
  "toc": {
   "base_numbering": 1,
   "nav_menu": {},
   "number_sections": true,
   "sideBar": true,
   "skip_h1_title": false,
   "title_cell": "Table of Contents",
   "title_sidebar": "Contents",
   "toc_cell": false,
   "toc_position": {},
   "toc_section_display": true,
   "toc_window_display": false
  }
 },
 "nbformat": 4,
 "nbformat_minor": 2
}
