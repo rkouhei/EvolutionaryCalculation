{
 "cells": [
  {
   "cell_type": "markdown",
   "metadata": {},
   "source": [
    "# 課題1\n",
    "## 関数 $f(x) = x^3 + 2x^2 - 5x + 6$ がある\n",
    "\n",
    "・f(x)を$-5 \\leqq x \\leqq 3$で図示せよ。\n",
    "\n",
    "・初期値$x_0 = -3, 1$の二通りの場合において、ニュートン法を用いて$f(x) = 0$となる$x$を求めよ。"
   ]
  },
  {
   "cell_type": "markdown",
   "metadata": {},
   "source": [
    "## 課題1-1"
   ]
  },
  {
   "cell_type": "code",
   "execution_count": 2,
   "metadata": {
    "scrolled": true
   },
   "outputs": [
    {
     "data": {
      "image/png": "[encoded data removed]",
      "text/plain": [
       "<matplotlib.figure.Figure at 0x110f6b320>"
      ]
     },
     "metadata": {},
     "output_type": "display_data"
    },
    {
     "data": {
      "text/plain": [
       "<sympy.plotting.plot.Plot at 0x110f87b38>"
      ]
     },
     "execution_count": 2,
     "metadata": {},
     "output_type": "execute_result"
    }
   ],
   "source": [
    "from sympy import *\n",
    "\n",
    "x, y = symbols(\"x y\")\n",
    "\n",
    "def f(x) :\n",
    "    return x**3 + 2*x**2 - 5*x + 6\n",
    "\n",
    "plot(f(x), -5, 3)\n",
    "\n",
    "# === 以下はnumpyとmatplotlibで行う場合\n",
    "#import numpy as np\n",
    "#from matplotlib import pyplot\n",
    "\n",
    "#x1 = np.linspace(-5, 3, 100)\n",
    "#y1 = f(x1)\n",
    "\n",
    "#pyplot.plot(x1,y1)\n",
    "#pyplot.show()\n"
   ]
  },
  {
   "cell_type": "markdown",
   "metadata": {},
   "source": [
    "## 課題1-2\n",
    "\n",
    "$f(x)$を微分し、閾値$10e-6$になるまで計算を繰り返す\n",
    "\n",
    "まずは$x_0 = -3$の時を求める"
   ]
  },
  {
   "cell_type": "code",
   "execution_count": 3,
   "metadata": {
    "scrolled": true
   },
   "outputs": [
    {
     "name": "stdout",
     "output_type": "stream",
     "text": [
      "-3.7563213575872454\n",
      "-1.1838062181189844e-11\n"
     ]
    }
   ],
   "source": [
    "# f(x)を微分する\n",
    "\n",
    "df = diff(f(x))\n",
    "x0 = -3\n",
    "\n",
    "while True :\n",
    "    x1 = x0 - f(x0)/df.subs(x, x0)\n",
    "    if abs(f(x1)) < 10e-6 : \n",
    "        break\n",
    "    x0 = x1\n",
    "\n",
    "print(float(x1))  # 分数になるので、floatで変換\n",
    "print(float(f(x1)))  # 同じ"
   ]
  },
  {
   "cell_type": "markdown",
   "metadata": {},
   "source": [
    "よって答えは\n",
    "\n",
    "$ x = -3.7563213575872454 $"
   ]
  },
  {
   "cell_type": "markdown",
   "metadata": {},
   "source": [
    "次に初期値が\n",
    "$x_0 = 1$の時を求める\n",
    "\n",
    "この初期値で計算を進めると循環してしまうため、初期値が不適である"
   ]
  },
  {
   "cell_type": "code",
   "execution_count": 4,
   "metadata": {},
   "outputs": [
    {
     "name": "stdout",
     "output_type": "stream",
     "text": [
      "1.0\n",
      "4.0\n"
     ]
    }
   ],
   "source": [
    "x0 = 1\n",
    "count = 0\n",
    "\n",
    "while True :\n",
    "    x1= x0 - f(x0)/df.subs(x, x0)\n",
    "    if abs(f(x1)) < 10e-6 or count > 6 :\n",
    "        break\n",
    "    #print(float(x1))  \n",
    "    #print(float(f(x1)))\n",
    "    x0 = x1\n",
    "    count += 1\n",
    "    \n",
    "print(float(x1))  # 分数になるので、floatで変換\n",
    "print(float(f(x1)))  # 同じ"
   ]
  },
  {
   "cell_type": "markdown",
   "metadata": {},
   "source": [
    "# 課題2\n",
    "## 関数 $f_1(x) = x_1^2 + x_2^2 - 1 = 0$ , $ f_2(x) = x_1^3 - x_2 $ がある\n",
    "\n",
    "・初期値$(x_1, x_2) = (1, 0.5)$とし、\n",
    "\n",
    "ニュートン法を用いて$f(x) = 0$となる$x$を求めよ。\n",
    "\n",
    "また、その時の途中解$x_k$と$f_1(x_k), f_2(x_k)$の値も記せ。\n",
    "\n",
    "終了条件は$f_1(x_k) < 10^-6$ AND $f_2(x_k) < 10^-6$とする。"
   ]
  },
  {
   "cell_type": "markdown",
   "metadata": {},
   "source": [
    "この問題は2次元なので、それぞれの式を偏微分する必要がある"
   ]
  },
  {
   "cell_type": "code",
   "execution_count": 6,
   "metadata": {},
   "outputs": [
    {
     "name": "stdout",
     "output_type": "stream",
     "text": [
      "x11 =  0.850000000000000\n",
      "x21 =  0.550000000000000\n",
      "f1(x11, x21) =  0.0249999999999999\n",
      "f2(x11, x21) =  0.0641249999999999\n",
      "\n",
      "x12 =  0.826608312419661\n",
      "x22 =  0.563423517169615\n",
      "f1(x12, x22) =  0.000727361861059261\n",
      "f2(x12, x22) =  0.00138248691782883\n",
      "\n",
      "x13 =  0.826031686465398\n",
      "x23 =  0.563624010888778\n",
      "f1(x13, x23) =  3.72695222683461e-7\n",
      "f2(x13, x23) =  8.24343843408570e-7\n",
      "\n"
     ]
    }
   ],
   "source": [
    "x1, x2 = symbols(\"x1 x2\")\n",
    "count = 1\n",
    "\n",
    "def f1(x1, x2) :\n",
    "    return x1**2 + x2**2 - 1\n",
    "\n",
    "def f2(x1, x2) :\n",
    "    return x1**3 - x2\n",
    "\n",
    "x10 = 1\n",
    "x20 = 0.5\n",
    "\n",
    "df1x1 = diff(f1(x1, x2), x1)\n",
    "df1x2 = diff(f1(x1, x2), x2)\n",
    "df2x1 = diff(f2(x1, x2), x1)\n",
    "df2x2 = diff(f2(x1, x2), x2)\n",
    "\n",
    "while True :\n",
    "    x10, x20 = Matrix([[x10],[x20]]) \\\n",
    "    - Matrix([[df1x1.subs(x1, x10),df1x2.subs(x2, x20)],[df2x1.subs(x1, x10),df2x2.subs(x2, x20)]]).inv() \\\n",
    "    * Matrix([[f1(x10, x20)],[f2(x10, x20)]])\n",
    "    print(\"x1{} = \".format(count) , x10)\n",
    "    print(\"x2{} = \".format(count) , x20)\n",
    "    print(\"f1(x1{0}, x2{0}) = \".format(count) , f1(x10,x20))\n",
    "    print(\"f2(x1{0}, x2{0}) = \".format(count) , f2(x10,x20))\n",
    "    print()\n",
    "    if f1(x10,x20) < 10e-6 and f2(x10,x20) < 10e-6 :\n",
    "        break\n",
    "    count += 1"
   ]
  },
  {
   "cell_type": "markdown",
   "metadata": {},
   "source": [
    "よって答えは\n",
    "\n",
    "$x_1 = 0.826031686465398$\n",
    "\n",
    "$x_2 = 0.563624010888778$"
   ]
  }
 ],
 "metadata": {
  "kernelspec": {
   "display_name": "Python 3",
   "language": "python",
   "name": "python3"
  },
  "language_info": {
   "codemirror_mode": {
    "name": "ipython",
    "version": 3
   },
   "file_extension": ".py",
   "mimetype": "text/x-python",
   "name": "python",
   "nbconvert_exporter": "python",
   "pygments_lexer": "ipython3",
   "version": "3.6.3"
  }
 },
 "nbformat": 4,
 "nbformat_minor": 2
}
