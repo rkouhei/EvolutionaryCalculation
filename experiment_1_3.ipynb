{
 "cells": [
  {
   "cell_type": "markdown",
   "metadata": {},
   "source": [
    "# 進化計算特論レポート 実験\n",
    "1.3 解の収束の様子"
   ]
  },
  {
   "cell_type": "markdown",
   "metadata": {},
   "source": [
    "**PSO**<br>\n",
    "次元数**2**<br>\n",
    "関数**Sphere**"
   ]
  },
  {
   "cell_type": "code",
   "execution_count": 2,
   "metadata": {
    "collapsed": true
   },
   "outputs": [],
   "source": [
    "from pso import pso\n",
    "import numpy as np\n",
    "import csv\n",
    "\n",
    "x = []\n",
    "# シミュレーション, 次元数2で100回施行\n",
    "with open('excel/1_3_p2s.csv', 'w') as f :\n",
    "    writer = csv.writer(f)\n",
    "    for i in range(100) :\n",
    "        ans_list = [] # 平均解\n",
    "        p1 = pso.pso(30,2)\n",
    "        ans_list = p1.calc()\n",
    "        writer.writerow(ans_list)\n",
    "        "
   ]
  },
  {
   "cell_type": "code",
   "execution_count": 3,
   "metadata": {
    "collapsed": true
   },
   "outputs": [],
   "source": [
    "from pso import pso\n",
    "import numpy as np\n",
    "import csv\n",
    "\n",
    "x = []\n",
    "# シミュレーション, 次元数2で100回施行\n",
    "with open('excel/1_3_p2r.csv', 'w') as f :\n",
    "    writer = csv.writer(f)\n",
    "    for i in range(100) :\n",
    "        ans_list = [] # 平均解\n",
    "        p1 = pso.pso(30,2,'rastrigin')\n",
    "        ans_list = p1.calc()\n",
    "        writer.writerow(ans_list)"
   ]
  },
  {
   "cell_type": "code",
   "execution_count": 1,
   "metadata": {},
   "outputs": [],
   "source": [
    "from DE import de\n",
    "import numpy as np\n",
    "import csv\n",
    "\n",
    "x = []\n",
    "# シミュレーション, 次元数2で100回施行\n",
    "with open('excel/1_3_d2s.csv', 'w') as f :\n",
    "    writer = csv.writer(f)\n",
    "    for i in range(100) :\n",
    "        ans_list = [] # 平均解\n",
    "        p1 = de.de(30,2)\n",
    "        ans_list = p1.calc()\n",
    "        writer.writerow(ans_list)\n",
    "        "
   ]
  },
  {
   "cell_type": "code",
   "execution_count": 2,
   "metadata": {
    "collapsed": true
   },
   "outputs": [],
   "source": [
    "from DE import de\n",
    "import numpy as np\n",
    "import csv\n",
    "\n",
    "x = []\n",
    "# シミュレーション, 次元数2で100回施行\n",
    "with open('excel/1_3_d2r.csv', 'w') as f :\n",
    "    writer = csv.writer(f)\n",
    "    for i in range(100) :\n",
    "        ans_list = [] # 平均解\n",
    "        p1 = de.de(30,2,'rastrigin')\n",
    "        ans_list = p1.calc()\n",
    "        writer.writerow(ans_list)\n",
    "        "
   ]
  },
  {
   "cell_type": "code",
   "execution_count": 3,
   "metadata": {
    "collapsed": true
   },
   "outputs": [],
   "source": [
    "from pso import pso\n",
    "import numpy as np\n",
    "import csv\n",
    "\n",
    "x = []\n",
    "# シミュレーション, 次元数2で100回施行\n",
    "with open('excel/1_3_p20s.csv', 'w') as f :\n",
    "    writer = csv.writer(f)\n",
    "    for i in range(100) :\n",
    "        ans_list = [] # 平均解\n",
    "        p1 = pso.pso(30,20)\n",
    "        ans_list = p1.calc()\n",
    "        writer.writerow(ans_list)"
   ]
  },
  {
   "cell_type": "code",
   "execution_count": 4,
   "metadata": {
    "collapsed": true
   },
   "outputs": [],
   "source": [
    "from pso import pso\n",
    "import numpy as np\n",
    "import csv\n",
    "\n",
    "x = []\n",
    "# シミュレーション, 次元数2で100回施行\n",
    "with open('excel/1_3_p20r.csv', 'w') as f :\n",
    "    writer = csv.writer(f)\n",
    "    for i in range(100) :\n",
    "        ans_list = [] # 平均解\n",
    "        p1 = pso.pso(30,20,'rastrigin')\n",
    "        ans_list = p1.calc()\n",
    "        writer.writerow(ans_list)"
   ]
  },
  {
   "cell_type": "code",
   "execution_count": 5,
   "metadata": {
    "collapsed": true
   },
   "outputs": [],
   "source": [
    "from DE import de\n",
    "import numpy as np\n",
    "import csv\n",
    "\n",
    "x = []\n",
    "# シミュレーション, 次元数2で100回施行\n",
    "with open('excel/1_3_d20s.csv', 'w') as f :\n",
    "    writer = csv.writer(f)\n",
    "    for i in range(100) :\n",
    "        ans_list = [] # 平均解\n",
    "        p1 = de.de(30,20)\n",
    "        ans_list = p1.calc()\n",
    "        writer.writerow(ans_list)\n",
    "        "
   ]
  },
  {
   "cell_type": "code",
   "execution_count": 6,
   "metadata": {
    "collapsed": true
   },
   "outputs": [],
   "source": [
    "from DE import de\n",
    "import numpy as np\n",
    "import csv\n",
    "\n",
    "x = []\n",
    "# シミュレーション, 次元数2で100回施行\n",
    "with open('excel/1_3_d20r.csv', 'w') as f :\n",
    "    writer = csv.writer(f)\n",
    "    for i in range(100) :\n",
    "        ans_list = [] # 平均解\n",
    "        p1 = de.de(30,20,'rastrigin')\n",
    "        ans_list = p1.calc()\n",
    "        writer.writerow(ans_list)\n",
    "        "
   ]
  }
 ],
 "metadata": {
  "kernelspec": {
   "display_name": "Python 3",
   "language": "python",
   "name": "python3"
  },
  "language_info": {
   "codemirror_mode": {
    "name": "ipython",
    "version": 3
   },
   "file_extension": ".py",
   "mimetype": "text/x-python",
   "name": "python",
   "nbconvert_exporter": "python",
   "pygments_lexer": "ipython3",
   "version": "3.6.3"
  },
  "toc": {
   "base_numbering": 1,
   "nav_menu": {},
   "number_sections": true,
   "sideBar": true,
   "skip_h1_title": false,
   "title_cell": "Table of Contents",
   "title_sidebar": "Contents",
   "toc_cell": false,
   "toc_position": {},
   "toc_section_display": true,
   "toc_window_display": false
  }
 },
 "nbformat": 4,
 "nbformat_minor": 2
}
